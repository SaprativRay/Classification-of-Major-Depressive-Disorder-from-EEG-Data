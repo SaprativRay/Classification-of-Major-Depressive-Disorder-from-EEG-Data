{
 "cells": [
  {
   "cell_type": "code",
   "execution_count": null,
   "metadata": {},
   "outputs": [],
   "source": [
    "import numpy as np\n",
    "import pandas as pd\n",
    "import scipy as sp\n",
    "import matplotlib.pyplot as plt\n",
    "import random\n",
    "import skfuzzy as fuzz\n",
    "from sklearn.model_selection import train_test_split\n",
    "from sklearn.model_selection import cross_val_score\n",
    "from sklearn.metrics import accuracy_score\n",
    "from sklearn.metrics import confusion_matrix"
   ]
  },
  {
   "cell_type": "code",
   "execution_count": null,
   "metadata": {},
   "outputs": [],
   "source": [
    "data = pd.read_excel('train_norm.xlsx')"
   ]
  },
  {
   "cell_type": "code",
   "execution_count": null,
   "metadata": {},
   "outputs": [],
   "source": [
    "data.set_index('Unnamed: 0',inplace=True)\n",
    "data.head()"
   ]
  },
  {
   "cell_type": "code",
   "execution_count": null,
   "metadata": {},
   "outputs": [],
   "source": [
    "X=np.array(data.iloc[:,0:45])\n",
    "y=np.array(data.iloc[:,45])\n",
    "X.shape"
   ]
  },
  {
   "cell_type": "code",
   "execution_count": null,
   "metadata": {},
   "outputs": [],
   "source": [
    "rules = [] \n",
    "while(len(set(rules))!= 1000):\n",
    "    res=''.join(random.choices(['1','2','3','#'], weights = [7.5, 10, 7.5, 5], k = 18))\n",
    "    rules.append(res)"
   ]
  },
  {
   "cell_type": "code",
   "execution_count": null,
   "metadata": {},
   "outputs": [],
   "source": [
    "rules = [] \n",
    "\n",
    "def train_string(temp):\n",
    "    X=[]\n",
    "    for i in range(temp.shape[0]):\n",
    "        r=''\n",
    "        for j in range(temp.shape[1]):\n",
    "            a1=mem(temp[i,j],'1')\n",
    "            a2=mem(temp[i,j],'2')\n",
    "            a3=mem(temp[i,j],'3')\n",
    "            print(a1,a2,a3)\n",
    "            if (a1>=a2) and (a1>=a3):\n",
    "                r=r+'1'\n",
    "            elif (a2>=a1) and (a2>=a3):\n",
    "                r=r+'2'\n",
    "            elif (a3>=a1) and (a3>=a2):\n",
    "                r=r+'3'\n",
    "        X.append(r)\n",
    "    return X\n",
    "    "
   ]
  },
  {
   "cell_type": "code",
   "execution_count": null,
   "metadata": {},
   "outputs": [],
   "source": [
    "rules=train_string(X)"
   ]
  },
  {
   "cell_type": "code",
   "execution_count": null,
   "metadata": {},
   "outputs": [],
   "source": [
    "rules=train_string(X)\n",
    "rules=set(rules)\n",
    "t=set(rules)\n",
    "while True:\n",
    "    for rule in rules:\n",
    "        temp=rule\n",
    "        for j in range(len(rule)):\n",
    "            a=random.random()\n",
    "            if a<.2:\n",
    "                temp=temp[0:j]+'#'+temp[j+1:]\n",
    "        t.add(temp)\n",
    "    if len(t)>=500:\n",
    "            break\n",
    "rules=list(t)"
   ]
  },
  {
   "cell_type": "code",
   "execution_count": null,
   "metadata": {},
   "outputs": [],
   "source": [
    "a1=fuzz.trimf(np.arange(0,1.1,0.1),[0,0,0.5])\n",
    "a2=fuzz.trimf(np.arange(0,1.1,0.1),[0,0.5,1.0])\n",
    "a3=fuzz.trimf(np.arange(0,1.1,0.1),[0.5,0.5,1.0])\n",
    "def mem(x,rule):\n",
    "    if rule=='1':\n",
    "        return fuzz.interp_membership(np.arange(0,1.1,0.1), a1, x)\n",
    "    elif rule=='2':\n",
    "        return fuzz.interp_membership(np.arange(0,1.1,0.1), a2, x)\n",
    "    elif rule=='3':\n",
    "        return fuzz.interp_membership(np.arange(0,1.1,0.1), a3, x)\n",
    "    else:\n",
    "        return 1"
   ]
  },
  {
   "cell_type": "code",
   "execution_count": null,
   "metadata": {},
   "outputs": [],
   "source": [
    "def com_grade(l,rule):\n",
    "    res=1\n",
    "    for i in range(len(l)):\n",
    "        res=res*mem(l[i],rule[i])\n",
    "        if res==0:\n",
    "            break\n",
    "    return res"
   ]
  },
  {
   "cell_type": "code",
   "execution_count": null,
   "metadata": {},
   "outputs": [],
   "source": [
    "def grade_certainty(X,rules,y):\n",
    "    certainty_factor=[]\n",
    "    cons=[]\n",
    "    fitness=[]\n",
    "    for i in range(len(rules)):\n",
    "        t=[]\n",
    "        for j in range(X.shape[0]):\n",
    "            temp=com_grade(X[j],rules[i])\n",
    "            t.append(temp)\n",
    "        Bclass0=0\n",
    "        Bclass1=0\n",
    "        for j in range(len(t)):\n",
    "            if y[j]==0:\n",
    "                Bclass0+=t[j]\n",
    "            else:\n",
    "                Bclass1+=t[j]\n",
    "        cons_class=max(Bclass0,Bclass1)\n",
    "        o_class=min(Bclass0,Bclass1)\n",
    "        if cons_class==0 and o_class==0:\n",
    "            cf=0\n",
    "        else:\n",
    "            cf=(cons_class - o_class)/(cons_class + o_class)\n",
    "        if cons_class==Bclass1:\n",
    "            cons.append(1)\n",
    "            ncp=0\n",
    "            for j in range(len(t)):\n",
    "                if (y[j]==1) and (t[j]!=0):\n",
    "                    ncp+=1 \n",
    "            fitness.append(ncp)\n",
    "        else:\n",
    "            cons.append(0)\n",
    "            ncp=0\n",
    "            for j in range(len(t)):\n",
    "                if (y[j]==0) and (t[j]!=0):\n",
    "                    ncp+=1 \n",
    "            fitness.append(ncp)\n",
    "        certainty_factor.append(cf)\n",
    "    return cons,certainty_factor,fitness"
   ]
  },
  {
   "cell_type": "code",
   "execution_count": null,
   "metadata": {},
   "outputs": [],
   "source": [
    "def selectOne(population,fitness):\n",
    "    max = sum([fitness[c] for c in range(len(population))])\n",
    "    selection_probs = [fitness[c]/max for c in range(len(population))]\n",
    "    return population[np.random.choice(len(population), p=selection_probs)]"
   ]
  },
  {
   "cell_type": "code",
   "execution_count": null,
   "metadata": {},
   "outputs": [],
   "source": [
    "def cxTwoPoint(ind1, ind2):\n",
    "    ind1=[i for i in ind1]\n",
    "    ind2=[i for i in ind2]\n",
    "    size = min(len(ind1), len(ind2))\n",
    "    cxpoint1 = random.randint(1, size)\n",
    "    cxpoint2 = random.randint(1, size - 1)\n",
    "    if cxpoint2 >= cxpoint1:\n",
    "        cxpoint2 += 1\n",
    "    else:  # Swap the two cx points\n",
    "        cxpoint1, cxpoint2 = cxpoint2, cxpoint1\n",
    "\n",
    "    ind1[cxpoint1:cxpoint2], ind2[cxpoint1:cxpoint2] = ind2[cxpoint1:cxpoint2], ind1[cxpoint1:cxpoint2]\n",
    "    ind1=''.join([str(elem) for elem in ind1])\n",
    "    ind2=''.join([str(elem) for elem in ind2])\n",
    "    return ind1, ind2"
   ]
  },
  {
   "cell_type": "code",
   "execution_count": null,
   "metadata": {},
   "outputs": [],
   "source": [
    "def predict(X,y,rules,cons_class,certainty_factor):\n",
    "    output_class=[]\n",
    "    cf=[]\n",
    "    r=[]\n",
    "    for i in range(X.shape[0]):\n",
    "        m=-1\n",
    "        o=None\n",
    "        for j in range(len(rules)):\n",
    "            com=com_grade(X[i],rules[j])\n",
    "            if com*certainty_factor[j]>m:\n",
    "                m=com*certainty_factor[j]\n",
    "                o=cons_class[j]\n",
    "                ru=rules[j]\n",
    "        cf.append(m)\n",
    "        output_class.append(o)\n",
    "        r.append(ru)\n",
    "    return output_class,cf,r"
   ]
  },
  {
   "cell_type": "code",
   "execution_count": null,
   "metadata": {},
   "outputs": [],
   "source": [
    "def model(X,y,rules,epoch,X_test,y_test):\n",
    "    while epoch:\n",
    "        cons,cf,fitness=grade_certainty(X,rules,y)\n",
    "        cons_class=[]\n",
    "        certainty_factor=[]\n",
    "        rev_rules=[]\n",
    "        fit=[]\n",
    "        for i in range(len(cf)):\n",
    "            if cf[i]!=0:\n",
    "                certainty_factor.append(cf[i])\n",
    "                cons_class.append(cons[i])\n",
    "                rev_rules.append(rules[i])\n",
    "                fit.append(fitness[i])\n",
    "        output_class,cf,r=predict(X_test,y_test,rev_rules,cons_class,certainty_factor)\n",
    "        print(epoch, accuracy_score(y_test,output_class))\n",
    "        zipped_pairs = zip(fit, cons_class, certainty_factor, rev_rules) \n",
    "        temp=sorted(zipped_pairs,reverse=True)\n",
    "        i=0\n",
    "        for a,b,c,d in temp:\n",
    "            fit[i]=a\n",
    "            cons_class[i]=b\n",
    "            certainty_factor[i]=c \n",
    "            rev_rules[i]=d \n",
    "            i+=1 \n",
    "        rules_rep=[]\n",
    "        for i in range(len(rev_rules)//4):\n",
    "            ind1=selectOne(rev_rules,fit)\n",
    "            ind2=selectOne(rev_rules,fit)\n",
    "            ind1,ind2=cxTwoPoint(ind1, ind2)\n",
    "            rules_rep.append(ind1)\n",
    "            rules_rep.append(ind2)\n",
    "        rules=rev_rules[:len(rev_rules)//2]+rules_rep\n",
    "        epoch-=1\n",
    "    return cons_class,certainty_factor,rev_rules,fit"
   ]
  },
  {
   "cell_type": "code",
   "execution_count": null,
   "metadata": {},
   "outputs": [],
   "source": []
  }
 ],
 "metadata": {
  "kernelspec": {
   "display_name": "Python 3",
   "language": "python",
   "name": "python3"
  },
  "language_info": {
   "codemirror_mode": {
    "name": "ipython",
    "version": 3
   },
   "file_extension": ".py",
   "mimetype": "text/x-python",
   "name": "python",
   "nbconvert_exporter": "python",
   "pygments_lexer": "ipython3",
   "version": "3.7.4"
  }
 },
 "nbformat": 4,
 "nbformat_minor": 4
}
